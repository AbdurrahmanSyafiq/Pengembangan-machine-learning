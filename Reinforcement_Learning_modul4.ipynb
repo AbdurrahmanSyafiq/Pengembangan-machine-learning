{
  "nbformat": 4,
  "nbformat_minor": 0,
  "metadata": {
    "colab": {
      "provenance": []
    },
    "kernelspec": {
      "name": "python3",
      "display_name": "Python 3"
    },
    "language_info": {
      "name": "python"
    }
  },
  "cells": [
    {
      "cell_type": "code",
      "execution_count": null,
      "metadata": {
        "id": "6yE3EtyqZhUd"
      },
      "outputs": [],
      "source": [
        "!pip install gym==0.17.3 --quiet\n",
        "import numpy as np\n",
        "import gym\n",
        "import pickle"
      ]
    },
    {
      "cell_type": "markdown",
      "source": [
        "**Membuat Peta Grid**"
      ],
      "metadata": {
        "id": "ylXBQUtKaYEk"
      }
    },
    {
      "cell_type": "code",
      "source": [
        "peta = [\n",
        "    ['SFFF','FHFH','FFFH','HFFG'],\n",
        "    ['SFFF','FFHF','HFFF','HFFG'],\n",
        "    ['SHFF','FHFH','FFFH','HHFG'],\n",
        "    ['SFFF','HHFF','FFFF','HFFG'],\n",
        "    ['SFFH','FFFH','HFFH','HHFG']\n",
        "]"
      ],
      "metadata": {
        "id": "guVGp9JpZxWv"
      },
      "execution_count": null,
      "outputs": []
    },
    {
      "cell_type": "code",
      "source": [
        "# Memuat lingkungan\n",
        "env = gym.make(\"FrozenLake-v0\",is_slippery=False, desc=peta[0])"
      ],
      "metadata": {
        "id": "RHLtRaU8Z_h0"
      },
      "execution_count": null,
      "outputs": []
    },
    {
      "cell_type": "code",
      "source": [
        "n_observations = env.observation_space.n\n",
        "n_actions      = env.action_space.n\n",
        "\n",
        "print('Banyak State  : ' + str(n_observations))\n",
        "print('Banyak Action : ' + str(n_actions))"
      ],
      "metadata": {
        "colab": {
          "base_uri": "https://localhost:8080/"
        },
        "id": "2roY7tWkaCfx",
        "outputId": "0622b012-8849-4c43-a95f-f614eed5aa53"
      },
      "execution_count": null,
      "outputs": [
        {
          "output_type": "stream",
          "name": "stdout",
          "text": [
            "Banyak State  : 16\n",
            "Banyak Action : 4\n"
          ]
        }
      ]
    },
    {
      "cell_type": "code",
      "source": [
        "ACTION = [\"KIRI\",\"BAWAH\",\"KANAN\",\"ATAS\"]"
      ],
      "metadata": {
        "id": "ZmbKxfabaM6i"
      },
      "execution_count": null,
      "outputs": []
    },
    {
      "cell_type": "code",
      "source": [
        "env.reset()\n",
        "env.render()"
      ],
      "metadata": {
        "colab": {
          "base_uri": "https://localhost:8080/"
        },
        "id": "O6JOK67BaQGo",
        "outputId": "fac67750-7364-4671-f838-ec9fc7a9f224"
      },
      "execution_count": null,
      "outputs": [
        {
          "output_type": "stream",
          "name": "stdout",
          "text": [
            "\n",
            "\u001b[41mS\u001b[0mFFF\n",
            "FHFH\n",
            "FFFH\n",
            "HFFG\n"
          ]
        }
      ]
    },
    {
      "cell_type": "markdown",
      "source": [
        "**Menguji Langkah Agent**"
      ],
      "metadata": {
        "id": "9ROo6sg-ale3"
      }
    },
    {
      "cell_type": "code",
      "source": [
        "# Langkah 1 (ke Kanan)\n",
        "new_state, reward, done, info = env.step(2)\n",
        "\n",
        "# Menampilkan informasi\n",
        "print(f\"New State : {new_state}\")\n",
        "print(f\"Reward    : {reward}\")\n",
        "print(f\"Done      : {done}\")\n",
        "\n",
        "# Menampilkan visualisasi lingkungan\n",
        "env.render()"
      ],
      "metadata": {
        "colab": {
          "base_uri": "https://localhost:8080/"
        },
        "id": "_qZLBJsVavQU",
        "outputId": "b5a0a2e4-923e-453b-8f08-6eb844507de7"
      },
      "execution_count": null,
      "outputs": [
        {
          "output_type": "stream",
          "name": "stdout",
          "text": [
            "New State : 1\n",
            "Reward    : 0.0\n",
            "Done      : False\n",
            "  (Right)\n",
            "S\u001b[41mF\u001b[0mFF\n",
            "FHFH\n",
            "FFFH\n",
            "HFFG\n"
          ]
        }
      ]
    },
    {
      "cell_type": "code",
      "source": [
        "# Langkah 2 (ke Kanan)\n",
        "new_state, reward, done, info = env.step(2)\n",
        "\n",
        "# Menampilkan informasi\n",
        "print(f\"New State : {new_state}\")\n",
        "print(f\"Reward    : {reward}\")\n",
        "print(f\"Done      : {done}\")\n",
        "\n",
        "# Menampilkan visualisasi lingkungan\n",
        "env.render()"
      ],
      "metadata": {
        "colab": {
          "base_uri": "https://localhost:8080/"
        },
        "id": "Pze603iebS5y",
        "outputId": "69ed5a1e-d3dc-469c-fb6b-1108a761ccf0"
      },
      "execution_count": null,
      "outputs": [
        {
          "output_type": "stream",
          "name": "stdout",
          "text": [
            "New State : 2\n",
            "Reward    : 0.0\n",
            "Done      : False\n",
            "  (Right)\n",
            "SF\u001b[41mF\u001b[0mF\n",
            "FHFH\n",
            "FFFH\n",
            "HFFG\n"
          ]
        }
      ]
    },
    {
      "cell_type": "code",
      "source": [
        "# Langkah 3 (ke Bawah)\n",
        "new_state, reward, done, info = env.step(1)\n",
        "\n",
        "# Menampilkan informasi\n",
        "print('New State : {}'.format(new_state))\n",
        "print('Reward    : {}'.format(reward))\n",
        "print('Done      : {}'.format(done))\n",
        "\n",
        "# Menampilkan visualisasi lingkungan\n",
        "env.render()"
      ],
      "metadata": {
        "colab": {
          "base_uri": "https://localhost:8080/"
        },
        "id": "TwonpYA-bSzP",
        "outputId": "e97ce72d-7e53-4d68-ae80-3769c3a5c0a4"
      },
      "execution_count": null,
      "outputs": [
        {
          "output_type": "stream",
          "name": "stdout",
          "text": [
            "New State : 6\n",
            "Reward    : 0.0\n",
            "Done      : False\n",
            "  (Down)\n",
            "SFFF\n",
            "FH\u001b[41mF\u001b[0mH\n",
            "FFFH\n",
            "HFFG\n"
          ]
        }
      ]
    },
    {
      "cell_type": "code",
      "source": [
        "# Langkah 4 (ke Bawah)\n",
        "new_state, reward, done, info = env.step(1)\n",
        "\n",
        "# Menampilkan informasi\n",
        "print('New State : {}'.format(new_state))\n",
        "print('Reward    : {}'.format(reward))\n",
        "print('Done      : {}'.format(done))\n",
        "\n",
        "# Menampilkan visualisasi lingkungan\n",
        "env.render()"
      ],
      "metadata": {
        "colab": {
          "base_uri": "https://localhost:8080/"
        },
        "id": "l3XJ4UjRbr5w",
        "outputId": "859d3e57-173b-4b16-d702-927513d8417c"
      },
      "execution_count": null,
      "outputs": [
        {
          "output_type": "stream",
          "name": "stdout",
          "text": [
            "New State : 10\n",
            "Reward    : 0.0\n",
            "Done      : False\n",
            "  (Down)\n",
            "SFFF\n",
            "FHFH\n",
            "FF\u001b[41mF\u001b[0mH\n",
            "HFFG\n"
          ]
        }
      ]
    },
    {
      "cell_type": "code",
      "source": [
        "# Langkah 5 (ke Bawah)\n",
        "new_state, reward, done, info = env.step(1)\n",
        "\n",
        "# Menampilkan informasi\n",
        "print(f\"New State : {new_state}\")\n",
        "print(f\"Reward    : {reward}\")\n",
        "print(f\"Done      : {done}\")\n",
        "\n",
        "# Menampilkan visualisasi lingkungan\n",
        "env.render()"
      ],
      "metadata": {
        "colab": {
          "base_uri": "https://localhost:8080/"
        },
        "id": "MxgI9sHFbv4i",
        "outputId": "38fe9865-04c4-4b2d-e91c-3cfa50079127"
      },
      "execution_count": null,
      "outputs": [
        {
          "output_type": "stream",
          "name": "stdout",
          "text": [
            "New State : 14\n",
            "Reward    : 0.0\n",
            "Done      : False\n",
            "  (Down)\n",
            "SFFF\n",
            "FHFH\n",
            "FFFH\n",
            "HF\u001b[41mF\u001b[0mG\n"
          ]
        }
      ]
    },
    {
      "cell_type": "code",
      "source": [
        "# Langkah 6 (ke Kanan)\n",
        "new_state, reward, done, info = env.step(2)\n",
        "\n",
        "# Menampilkan informasi\n",
        "print(f\"New State : {new_state}\")\n",
        "print(f\"Reward    : {reward}\")\n",
        "print(f\"Done      : {done}\")\n",
        "\n",
        "# Menampilkan visualisasi lingkungan\n",
        "env.render()"
      ],
      "metadata": {
        "colab": {
          "base_uri": "https://localhost:8080/"
        },
        "id": "kH57bxmJb9MJ",
        "outputId": "d6c3f5e1-fc7e-4a54-a90f-7664df40d142"
      },
      "execution_count": null,
      "outputs": [
        {
          "output_type": "stream",
          "name": "stdout",
          "text": [
            "New State : 15\n",
            "Reward    : 1.0\n",
            "Done      : True\n",
            "  (Right)\n",
            "SFFF\n",
            "FHFH\n",
            "FFFH\n",
            "HFF\u001b[41mG\u001b[0m\n"
          ]
        }
      ]
    },
    {
      "cell_type": "markdown",
      "source": [
        "# **Model Training**"
      ],
      "metadata": {
        "id": "nTLSXwp-cWuA"
      }
    },
    {
      "cell_type": "code",
      "source": [
        "def train_agent(env, n_episodes=10000, max_iter_episode=100, exploration_proba=1, exploration_decreasing_decay=0.001, min_exploration_proba=0.01, gamma=0.99, lr=0.1):\n",
        "    # Inisialisasi Q-table dengan ukuran berdasarkan jumlah state dan aksi\n",
        "    Q_table = np.zeros((env.observation_space.n, env.action_space.n))\n",
        "\n",
        "    # List untuk menyimpan reward dari setiap episode\n",
        "    rewards_per_episode = []\n",
        "\n",
        "    # Loop melalui setiap episode\n",
        "    for episode in range(n_episodes):\n",
        "        # Reset lingkungan untuk memulai episode baru dan mendapatkan state awal\n",
        "        state = env.reset()\n",
        "\n",
        "        # Inisialisasi total reward episode menjadi 0\n",
        "        episode_reward = 0\n",
        "\n",
        "        # Loop melalui setiap iterasi dalam episode\n",
        "        for _ in range(max_iter_episode):\n",
        "            # Pilih tindakan berdasarkan probabilitas eksplorasi atau menggunakan kebijakan Q\n",
        "            if np.random.uniform(0, 1) < exploration_proba:\n",
        "                action = env.action_space.sample()  # Aksi acak (eksplorasi)\n",
        "            else:\n",
        "                action = np.argmax(Q_table[state, :])  # Aksi terbaik berdasarkan Q-table (eksploitasi)\n",
        "\n",
        "            # Ambil langkah berdasarkan tindakan yang dipilih\n",
        "            next_state, reward, done, _ = env.step(action)\n",
        "\n",
        "            # Update Q-value berdasarkan reward yang diterima dan perkiraan nilai Q di state berikutnya\n",
        "            Q_table[state, action] = (1 - lr) * Q_table[state, action] + lr * (reward + gamma * np.max(Q_table[next_state, :]))\n",
        "\n",
        "            # Tambahkan reward dari langkah ini ke total reward episode\n",
        "            episode_reward += reward\n",
        "            state = next_state  # Pindah ke state berikutnya\n",
        "\n",
        "            # Hentikan episode jika mencapai terminal state\n",
        "            if done:\n",
        "                break\n",
        "\n",
        "        # Kurangi probabilitas eksplorasi seiring berjalannya waktu\n",
        "        exploration_proba = max(min_exploration_proba, np.exp(-exploration_decreasing_decay * episode))\n",
        "\n",
        "        # Simpan total reward episode ke dalam list\n",
        "        rewards_per_episode.append(episode_reward)\n",
        "\n",
        "    # Cetak rata-rata reward per 1000 episode\n",
        "    print(\"Rata-Rata Reward per 1000 Episode\")\n",
        "    for i in range(10):\n",
        "        print((i + 1) * 1000, \" : Rata-Rata Reward: \", np.mean(rewards_per_episode[1000 * i:1000 * (i + 1)]))\n",
        "\n",
        "    # Kembalikan Q-table yang telah dilatih\n",
        "    return Q_table"
      ],
      "metadata": {
        "id": "eHBkSMCLcKkl"
      },
      "execution_count": null,
      "outputs": []
    },
    {
      "cell_type": "code",
      "source": [
        "Q_table_all = []  # List kosong untuk menyimpan semua tabel Q dari setiap lingkungan\n",
        "\n",
        "for peta_env in peta:  # Loop melalui setiap peta dalam daftar peta\n",
        "    # Load Environment untuk setiap peta dengan konfigurasi tertentu\n",
        "    env = gym.make(\"FrozenLake-v0\", is_slippery=False, desc=peta_env)\n",
        "    env.reset()  # Reset lingkungan ke keadaan awal\n",
        "\n",
        "    print('Peta : ')\n",
        "    print(peta_env)  # Cetak peta yang sedang digunakan\n",
        "\n",
        "    # Melatih Agent pada lingkungan saat ini\n",
        "    Q_table = train_agent(env)  # Panggil fungsi train_agent untuk melatih agen di lingkungan saat ini\n",
        "\n",
        "    # Menyimpan Q_table untuk lingkungan saat ini ke dalam list\n",
        "    Q_table_all.append(Q_table)  # Tambahkan Q_table ke dalam list Q_table_all\n",
        "\n",
        "    print()  # Cetak baris kosong untuk pemisah antara lingkungan yang berbeda"
      ],
      "metadata": {
        "colab": {
          "base_uri": "https://localhost:8080/"
        },
        "id": "AXVbT6ybcdQc",
        "outputId": "0b0a72e6-df32-41f6-c53a-dae82dc96734"
      },
      "execution_count": null,
      "outputs": [
        {
          "output_type": "stream",
          "name": "stdout",
          "text": [
            "Peta : \n",
            "['SFFF', 'FHFH', 'FFFH', 'HFFG']\n",
            "Rata-Rata Reward per 1000 Episode\n",
            "1000  : Rata-Rata Reward:  0.273\n",
            "2000  : Rata-Rata Reward:  0.751\n",
            "3000  : Rata-Rata Reward:  0.907\n",
            "4000  : Rata-Rata Reward:  0.969\n",
            "5000  : Rata-Rata Reward:  0.989\n",
            "6000  : Rata-Rata Reward:  0.994\n",
            "7000  : Rata-Rata Reward:  0.991\n",
            "8000  : Rata-Rata Reward:  0.993\n",
            "9000  : Rata-Rata Reward:  0.992\n",
            "10000  : Rata-Rata Reward:  0.993\n",
            "\n",
            "Peta : \n",
            "['SFFF', 'FFHF', 'HFFF', 'HFFG']\n",
            "Rata-Rata Reward per 1000 Episode\n",
            "1000  : Rata-Rata Reward:  0.43\n",
            "2000  : Rata-Rata Reward:  0.843\n",
            "3000  : Rata-Rata Reward:  0.944\n",
            "4000  : Rata-Rata Reward:  0.981\n",
            "5000  : Rata-Rata Reward:  0.994\n",
            "6000  : Rata-Rata Reward:  0.996\n",
            "7000  : Rata-Rata Reward:  0.99\n",
            "8000  : Rata-Rata Reward:  0.995\n",
            "9000  : Rata-Rata Reward:  0.994\n",
            "10000  : Rata-Rata Reward:  0.994\n",
            "\n",
            "Peta : \n",
            "['SHFF', 'FHFH', 'FFFH', 'HHFG']\n",
            "Rata-Rata Reward per 1000 Episode\n",
            "1000  : Rata-Rata Reward:  0.0\n",
            "2000  : Rata-Rata Reward:  0.0\n",
            "3000  : Rata-Rata Reward:  0.0\n",
            "4000  : Rata-Rata Reward:  0.0\n",
            "5000  : Rata-Rata Reward:  0.0\n",
            "6000  : Rata-Rata Reward:  0.0\n",
            "7000  : Rata-Rata Reward:  0.0\n",
            "8000  : Rata-Rata Reward:  0.0\n",
            "9000  : Rata-Rata Reward:  0.0\n",
            "10000  : Rata-Rata Reward:  0.0\n",
            "\n",
            "Peta : \n",
            "['SFFF', 'HHFF', 'FFFF', 'HFFG']\n",
            "Rata-Rata Reward per 1000 Episode\n",
            "1000  : Rata-Rata Reward:  0.434\n",
            "2000  : Rata-Rata Reward:  0.864\n",
            "3000  : Rata-Rata Reward:  0.946\n",
            "4000  : Rata-Rata Reward:  0.99\n",
            "5000  : Rata-Rata Reward:  0.997\n",
            "6000  : Rata-Rata Reward:  0.994\n",
            "7000  : Rata-Rata Reward:  0.997\n",
            "8000  : Rata-Rata Reward:  0.994\n",
            "9000  : Rata-Rata Reward:  0.997\n",
            "10000  : Rata-Rata Reward:  0.998\n",
            "\n",
            "Peta : \n",
            "['SFFH', 'FFFH', 'HFFH', 'HHFG']\n",
            "Rata-Rata Reward per 1000 Episode\n",
            "1000  : Rata-Rata Reward:  0.317\n",
            "2000  : Rata-Rata Reward:  0.768\n",
            "3000  : Rata-Rata Reward:  0.936\n",
            "4000  : Rata-Rata Reward:  0.978\n",
            "5000  : Rata-Rata Reward:  0.987\n",
            "6000  : Rata-Rata Reward:  0.995\n",
            "7000  : Rata-Rata Reward:  0.994\n",
            "8000  : Rata-Rata Reward:  0.996\n",
            "9000  : Rata-Rata Reward:  0.991\n",
            "10000  : Rata-Rata Reward:  0.994\n",
            "\n"
          ]
        }
      ]
    },
    {
      "cell_type": "markdown",
      "source": [
        "# **Memainkan agen yang dilatih**"
      ],
      "metadata": {
        "id": "lLWl9-QMfCAL"
      }
    },
    {
      "cell_type": "code",
      "source": [
        "index_peta = 0 # silakan pilih peta\n",
        "\n",
        "env = gym.make(\"FrozenLake-v0\",is_slippery=False, desc=peta[index_peta])\n",
        "env.reset()"
      ],
      "metadata": {
        "colab": {
          "base_uri": "https://localhost:8080/"
        },
        "id": "x1TEG3pwfHqp",
        "outputId": "b3007cce-482a-41fb-9314-ea8d1e1d7377"
      },
      "execution_count": null,
      "outputs": [
        {
          "output_type": "execute_result",
          "data": {
            "text/plain": [
              "0"
            ]
          },
          "metadata": {},
          "execution_count": 26
        }
      ]
    },
    {
      "cell_type": "code",
      "source": [
        "for langkah in range(1, 7):\n",
        "    if langkah == 1:\n",
        "        best_action = np.argmax(Q_table_all[index_peta][0])\n",
        "    else:\n",
        "        best_action = np.argmax(Q_table_all[index_peta][current_state])\n",
        "\n",
        "    new_state, reward, done, info = env.step(best_action)\n",
        "\n",
        "    # Cetak informasi langkah\n",
        "    print('--------------------------------------')\n",
        "    print('Langkah ke  :', langkah)\n",
        "    print('Best Action :', ACTION[best_action])\n",
        "    print('New State   :', new_state)\n",
        "    print('Reward      :', reward)\n",
        "    print('Done        :', done)\n",
        "\n",
        "    # Tampilkan visualisasi lingkungan\n",
        "    env.render()\n",
        "    current_state = new_state  # Perbarui state saat ini\n",
        "\n",
        "    print()"
      ],
      "metadata": {
        "colab": {
          "base_uri": "https://localhost:8080/"
        },
        "id": "eOYiIY1_fNTM",
        "outputId": "86071ec0-d34f-4558-f696-38a31d7b9051"
      },
      "execution_count": null,
      "outputs": [
        {
          "output_type": "stream",
          "name": "stdout",
          "text": [
            "--------------------------------------\n",
            "Langkah ke  : 1\n",
            "Best Action : BAWAH\n",
            "New State   : 4\n",
            "Reward      : 0.0\n",
            "Done        : False\n",
            "  (Down)\n",
            "SFFF\n",
            "\u001b[41mF\u001b[0mHFH\n",
            "FFFH\n",
            "HFFG\n",
            "\n",
            "--------------------------------------\n",
            "Langkah ke  : 2\n",
            "Best Action : BAWAH\n",
            "New State   : 8\n",
            "Reward      : 0.0\n",
            "Done        : False\n",
            "  (Down)\n",
            "SFFF\n",
            "FHFH\n",
            "\u001b[41mF\u001b[0mFFH\n",
            "HFFG\n",
            "\n",
            "--------------------------------------\n",
            "Langkah ke  : 3\n",
            "Best Action : KANAN\n",
            "New State   : 9\n",
            "Reward      : 0.0\n",
            "Done        : False\n",
            "  (Right)\n",
            "SFFF\n",
            "FHFH\n",
            "F\u001b[41mF\u001b[0mFH\n",
            "HFFG\n",
            "\n",
            "--------------------------------------\n",
            "Langkah ke  : 4\n",
            "Best Action : BAWAH\n",
            "New State   : 13\n",
            "Reward      : 0.0\n",
            "Done        : False\n",
            "  (Down)\n",
            "SFFF\n",
            "FHFH\n",
            "FFFH\n",
            "H\u001b[41mF\u001b[0mFG\n",
            "\n",
            "--------------------------------------\n",
            "Langkah ke  : 5\n",
            "Best Action : KANAN\n",
            "New State   : 14\n",
            "Reward      : 0.0\n",
            "Done        : False\n",
            "  (Right)\n",
            "SFFF\n",
            "FHFH\n",
            "FFFH\n",
            "HF\u001b[41mF\u001b[0mG\n",
            "\n",
            "--------------------------------------\n",
            "Langkah ke  : 6\n",
            "Best Action : KANAN\n",
            "New State   : 15\n",
            "Reward      : 1.0\n",
            "Done        : True\n",
            "  (Right)\n",
            "SFFF\n",
            "FHFH\n",
            "FFFH\n",
            "HFF\u001b[41mG\u001b[0m\n",
            "\n"
          ]
        }
      ]
    },
    {
      "cell_type": "markdown",
      "source": [
        "# **Evaluasi**"
      ],
      "metadata": {
        "id": "rHo7cDWpfsD6"
      }
    },
    {
      "cell_type": "code",
      "source": [
        "for peta_env in peta:  # Iterasi melalui setiap peta dalam daftar peta\n",
        "    print(\"Peta   :\", peta_env)  # Cetak deskripsi peta yang sedang diperiksa\n",
        "\n",
        "    env = gym.make(\"FrozenLake-v0\", is_slippery=False, desc=peta_env)  # Buat lingkungan permainan Frozen Lake\n",
        "    env.reset()  # Atur ulang lingkungan ke keadaan awal\n",
        "\n",
        "    # Iterasi untuk agen melakukan langkah-langkah dalam lingkungan\n",
        "    for langkah in range(1, 7):\n",
        "        if langkah == 1:\n",
        "            best_action = np.argmax(Q_table_all[index_peta][0])  # Ambil tindakan terbaik untuk langkah pertama\n",
        "        else:\n",
        "            best_action = np.argmax(Q_table_all[index_peta][current_state])  # Ambil tindakan terbaik berdasarkan state saat ini\n",
        "\n",
        "        new_state, reward, done, info = env.step(best_action)  # Lakukan langkah terbaik dalam lingkungan\n",
        "\n",
        "        current_state = new_state  # Perbarui state saat ini\n",
        "\n",
        "    # Periksa apakah agen berhasil menyelesaikan permainan\n",
        "    if done:\n",
        "        print(\"Status : Agent dapat menyelesaikan peta ini\")  # Cetak pesan jika agen berhasil menyelesaikan permainan\n",
        "    else:\n",
        "        print(\"Status : Agent tidak dapat menyelesaikan peta ini\")  # Cetak pesan jika agen gagal menyelesaikan permainan\n",
        "\n",
        "    print()  # Cetak baris kosong sebagai pemisah antara hasil dari setiap peta"
      ],
      "metadata": {
        "colab": {
          "base_uri": "https://localhost:8080/"
        },
        "id": "6JjDGL5tfngV",
        "outputId": "0730693c-0555-48e7-a926-f3f797e45d54"
      },
      "execution_count": null,
      "outputs": [
        {
          "output_type": "stream",
          "name": "stdout",
          "text": [
            "Peta   : ['SFFF', 'FHFH', 'FFFH', 'HFFG']\n",
            "Status : Agent dapat menyelesaikan peta ini\n",
            "\n",
            "Peta   : ['SFFF', 'FFHF', 'HFFF', 'HFFG']\n",
            "Status : Agent dapat menyelesaikan peta ini\n",
            "\n",
            "Peta   : ['SHFF', 'FHFH', 'FFFH', 'HHFG']\n",
            "Status : Agent dapat menyelesaikan peta ini\n",
            "\n",
            "Peta   : ['SFFF', 'HHFF', 'FFFF', 'HFFG']\n",
            "Status : Agent dapat menyelesaikan peta ini\n",
            "\n",
            "Peta   : ['SFFH', 'FFFH', 'HFFH', 'HHFG']\n",
            "Status : Agent dapat menyelesaikan peta ini\n",
            "\n"
          ]
        }
      ]
    },
    {
      "cell_type": "markdown",
      "source": [
        "# **Menyimpan Model**"
      ],
      "metadata": {
        "id": "rCiF-SnVf9_9"
      }
    },
    {
      "cell_type": "code",
      "source": [
        "# Simpan tabel Q yang telah dilatih menggunakan modul pickle\n",
        "pickle.dump(Q_table_all, open('Q_table_Frozen_Lake.model', 'wb'))\n",
        "\n",
        "# Penjelasan penutup\n",
        "print(\"Tabel Q untuk lingkungan Frozen Lake telah berhasil disimpan dalam file 'Q_table_Frozen_Lake.model'. Proses pelatihan agen dan penyimpanan tabel Q ini memungkinkan untuk digunakan kembali dalam pengujian atau aplikasi selanjutnya tanpa perlu melakukan pelatihan ulang.\")"
      ],
      "metadata": {
        "colab": {
          "base_uri": "https://localhost:8080/"
        },
        "id": "tGAeR_tmfpIy",
        "outputId": "d820592b-f591-4f19-ca8a-71b6b671241b"
      },
      "execution_count": null,
      "outputs": [
        {
          "output_type": "stream",
          "name": "stdout",
          "text": [
            "Tabel Q untuk lingkungan Frozen Lake telah berhasil disimpan dalam file 'Q_table_Frozen_Lake.model'. Proses pelatihan agen dan penyimpanan tabel Q ini memungkinkan untuk digunakan kembali dalam pengujian atau aplikasi selanjutnya tanpa perlu melakukan pelatihan ulang.\n"
          ]
        }
      ]
    }
  ]
}