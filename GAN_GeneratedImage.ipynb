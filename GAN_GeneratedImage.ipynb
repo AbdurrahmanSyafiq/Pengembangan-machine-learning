{
  "cells": [
    {
      "cell_type": "code",
      "execution_count": null,
      "metadata": {
        "id": "0Z4KSQSjEIyW"
      },
      "outputs": [],
      "source": [
        "import torch\n",
        "import torch.nn as nn\n",
        "import torch.optim as optim\n",
        "from torchvision import datasets, transforms"
      ]
    },
    {
      "cell_type": "markdown",
      "metadata": {
        "id": "t3VBkEbCZBlQ"
      },
      "source": [
        "# set hyperparameter"
      ]
    },
    {
      "cell_type": "code",
      "execution_count": null,
      "metadata": {
        "id": "fdg_ZIsrYull"
      },
      "outputs": [],
      "source": [
        "latent_dim = 100\n",
        "hidden_dim = 256\n",
        "image_dim = 28 * 28\n",
        "batch_size = 64\n",
        "learning_rate = 0.0002\n",
        "num_epochs = 50"
      ]
    },
    {
      "cell_type": "code",
      "execution_count": null,
      "metadata": {
        "colab": {
          "base_uri": "https://localhost:8080/"
        },
        "id": "_BzOercNY8_2",
        "outputId": "6db85b54-bef7-4f39-b6bb-ecbef89e3bf3"
      },
      "outputs": [
        {
          "name": "stdout",
          "output_type": "stream",
          "text": [
            "Downloading http://yann.lecun.com/exdb/mnist/train-images-idx3-ubyte.gz\n",
            "Failed to download (trying next):\n",
            "HTTP Error 403: Forbidden\n",
            "\n",
            "Downloading https://ossci-datasets.s3.amazonaws.com/mnist/train-images-idx3-ubyte.gz\n",
            "Downloading https://ossci-datasets.s3.amazonaws.com/mnist/train-images-idx3-ubyte.gz to ./data/MNIST/raw/train-images-idx3-ubyte.gz\n"
          ]
        },
        {
          "name": "stderr",
          "output_type": "stream",
          "text": [
            "100%|██████████| 9912422/9912422 [00:02<00:00, 4228204.55it/s]\n"
          ]
        },
        {
          "name": "stdout",
          "output_type": "stream",
          "text": [
            "Extracting ./data/MNIST/raw/train-images-idx3-ubyte.gz to ./data/MNIST/raw\n",
            "\n",
            "Downloading http://yann.lecun.com/exdb/mnist/train-labels-idx1-ubyte.gz\n",
            "Failed to download (trying next):\n",
            "HTTP Error 403: Forbidden\n",
            "\n",
            "Downloading https://ossci-datasets.s3.amazonaws.com/mnist/train-labels-idx1-ubyte.gz\n",
            "Downloading https://ossci-datasets.s3.amazonaws.com/mnist/train-labels-idx1-ubyte.gz to ./data/MNIST/raw/train-labels-idx1-ubyte.gz\n"
          ]
        },
        {
          "name": "stderr",
          "output_type": "stream",
          "text": [
            "100%|██████████| 28881/28881 [00:00<00:00, 124211.93it/s]\n"
          ]
        },
        {
          "name": "stdout",
          "output_type": "stream",
          "text": [
            "Extracting ./data/MNIST/raw/train-labels-idx1-ubyte.gz to ./data/MNIST/raw\n",
            "\n",
            "Downloading http://yann.lecun.com/exdb/mnist/t10k-images-idx3-ubyte.gz\n",
            "Failed to download (trying next):\n",
            "HTTP Error 403: Forbidden\n",
            "\n",
            "Downloading https://ossci-datasets.s3.amazonaws.com/mnist/t10k-images-idx3-ubyte.gz\n",
            "Downloading https://ossci-datasets.s3.amazonaws.com/mnist/t10k-images-idx3-ubyte.gz to ./data/MNIST/raw/t10k-images-idx3-ubyte.gz\n"
          ]
        },
        {
          "name": "stderr",
          "output_type": "stream",
          "text": [
            "100%|██████████| 1648877/1648877 [00:01<00:00, 1047753.59it/s]\n"
          ]
        },
        {
          "name": "stdout",
          "output_type": "stream",
          "text": [
            "Extracting ./data/MNIST/raw/t10k-images-idx3-ubyte.gz to ./data/MNIST/raw\n",
            "\n",
            "Downloading http://yann.lecun.com/exdb/mnist/t10k-labels-idx1-ubyte.gz\n",
            "Failed to download (trying next):\n",
            "HTTP Error 403: Forbidden\n",
            "\n",
            "Downloading https://ossci-datasets.s3.amazonaws.com/mnist/t10k-labels-idx1-ubyte.gz\n",
            "Downloading https://ossci-datasets.s3.amazonaws.com/mnist/t10k-labels-idx1-ubyte.gz to ./data/MNIST/raw/t10k-labels-idx1-ubyte.gz\n"
          ]
        },
        {
          "name": "stderr",
          "output_type": "stream",
          "text": [
            "100%|██████████| 4542/4542 [00:00<00:00, 5126622.38it/s]"
          ]
        },
        {
          "name": "stdout",
          "output_type": "stream",
          "text": [
            "Extracting ./data/MNIST/raw/t10k-labels-idx1-ubyte.gz to ./data/MNIST/raw\n",
            "\n"
          ]
        },
        {
          "name": "stderr",
          "output_type": "stream",
          "text": [
            "\n"
          ]
        }
      ],
      "source": [
        "transform = transforms.Compose([transforms.ToTensor(), transforms.Normalize((0.5,), (0.5,))])\n",
        "train_dataset = datasets.MNIST(root='./data', train=True, transform=transform, download=True)\n",
        "train_loader = torch.utils.data.DataLoader(dataset=train_dataset, batch_size=batch_size, shuffle=True)"
      ]
    },
    {
      "cell_type": "markdown",
      "metadata": {
        "id": "ZmPprPDCZ9qJ"
      },
      "source": [
        "# Membuat class generator dan diskriminator"
      ]
    },
    {
      "cell_type": "code",
      "execution_count": null,
      "metadata": {
        "id": "AvxOtzZiZGFX"
      },
      "outputs": [],
      "source": [
        "class Generator(nn.Module):\n",
        "    def __init__(self):\n",
        "        super(Generator, self).__init__()\n",
        "        self.model = nn.Sequential(\n",
        "            nn.Linear(latent_dim, hidden_dim),\n",
        "            nn.ReLU(True),\n",
        "            nn.Linear(hidden_dim, hidden_dim),\n",
        "            nn.ReLU(True),\n",
        "            nn.Linear(hidden_dim, image_dim),\n",
        "            nn.Tanh()\n",
        "        )\n",
        "\n",
        "    def forward(self, z):\n",
        "        img = self.model(z)\n",
        "        img = img.view(img.size(0), 1, 28, 28)\n",
        "        return img"
      ]
    },
    {
      "cell_type": "code",
      "execution_count": null,
      "metadata": {
        "id": "zfy0OupdZu0M"
      },
      "outputs": [],
      "source": [
        "class Discriminator(nn.Module):\n",
        "    def __init__(self):\n",
        "        super(Discriminator, self).__init__()\n",
        "        self.model = nn.Sequential(\n",
        "            nn.Linear(image_dim, hidden_dim),\n",
        "            nn.LeakyReLU(0.2, inplace=True),\n",
        "            nn.Linear(hidden_dim, hidden_dim),\n",
        "            nn.LeakyReLU(0.2, inplace=True),\n",
        "            nn.Linear(hidden_dim, 1),\n",
        "            nn.Sigmoid()\n",
        "        )\n",
        "\n",
        "    def forward(self, img):\n",
        "        img_flat = img.view(img.size(0), -1)\n",
        "        validity = self.model(img_flat)\n",
        "        return validity"
      ]
    },
    {
      "cell_type": "markdown",
      "metadata": {
        "id": "B9fgQKEpbHr4"
      },
      "source": [
        "# Training Generator & Diskriminator"
      ]
    },
    {
      "cell_type": "code",
      "execution_count": null,
      "metadata": {
        "id": "o92mhz3-aCym"
      },
      "outputs": [],
      "source": [
        "generator = Generator()\n",
        "discriminator = Discriminator()"
      ]
    },
    {
      "cell_type": "code",
      "execution_count": null,
      "metadata": {
        "id": "tL2UddmmaS3d"
      },
      "outputs": [],
      "source": [
        "# Optimizers\n",
        "optimizer_G = optim.Adam(generator.parameters(), lr=learning_rate)\n",
        "optimizer_D = optim.Adam(discriminator.parameters(), lr=learning_rate)\n",
        "\n",
        "# Loss function\n",
        "adversarial_loss = nn.BCELoss()"
      ]
    },
    {
      "cell_type": "code",
      "execution_count": null,
      "metadata": {
        "colab": {
          "background_save": true,
          "base_uri": "https://localhost:8080/"
        },
        "id": "DeppxOcHaa3x",
        "outputId": "279ae5f3-c9b5-40fe-8d85-e149fa41ce00"
      },
      "outputs": [
        {
          "name": "stdout",
          "output_type": "stream",
          "text": [
            "Epoch 1/50, D Loss: 0.016838546842336655, G Loss: 3.879329204559326\n",
            "Epoch 2/50, D Loss: 0.03393157944083214, G Loss: 5.797294616699219\n",
            "Epoch 3/50, D Loss: 0.23090113699436188, G Loss: 5.110340118408203\n",
            "Epoch 4/50, D Loss: 0.020541446283459663, G Loss: 5.2818522453308105\n",
            "Epoch 5/50, D Loss: 0.009327798150479794, G Loss: 6.443066596984863\n",
            "Epoch 6/50, D Loss: 0.029464446008205414, G Loss: 7.399418830871582\n",
            "Epoch 7/50, D Loss: 0.05284171551465988, G Loss: 5.994480133056641\n",
            "Epoch 8/50, D Loss: 0.07526689767837524, G Loss: 7.373116493225098\n",
            "Epoch 9/50, D Loss: 0.12356282770633698, G Loss: 3.903226375579834\n",
            "Epoch 10/50, D Loss: 0.11787654459476471, G Loss: 2.5143802165985107\n",
            "Epoch 11/50, D Loss: 0.1433282196521759, G Loss: 3.8177905082702637\n",
            "Epoch 12/50, D Loss: 0.12386257946491241, G Loss: 3.137202739715576\n",
            "Epoch 13/50, D Loss: 0.15194126963615417, G Loss: 4.9624152183532715\n",
            "Epoch 14/50, D Loss: 0.18690718710422516, G Loss: 3.956679105758667\n",
            "Epoch 15/50, D Loss: 0.2277642786502838, G Loss: 4.145358562469482\n",
            "Epoch 16/50, D Loss: 0.30580076575279236, G Loss: 4.00405740737915\n",
            "Epoch 17/50, D Loss: 0.10652061551809311, G Loss: 4.069795608520508\n",
            "Epoch 18/50, D Loss: 0.12844900786876678, G Loss: 2.9175240993499756\n",
            "Epoch 19/50, D Loss: 0.18927361071109772, G Loss: 4.734981536865234\n",
            "Epoch 20/50, D Loss: 0.09136409312486649, G Loss: 4.024799823760986\n",
            "Epoch 21/50, D Loss: 0.15949556231498718, G Loss: 2.955195665359497\n",
            "Epoch 22/50, D Loss: 0.2806943655014038, G Loss: 3.3693504333496094\n",
            "Epoch 23/50, D Loss: 0.44384509325027466, G Loss: 3.733642339706421\n",
            "Epoch 24/50, D Loss: 0.13258588314056396, G Loss: 3.6189563274383545\n",
            "Epoch 25/50, D Loss: 0.21876956522464752, G Loss: 4.39549446105957\n",
            "Epoch 26/50, D Loss: 0.16951905190944672, G Loss: 2.8560709953308105\n",
            "Epoch 27/50, D Loss: 0.2573966681957245, G Loss: 2.3664002418518066\n",
            "Epoch 28/50, D Loss: 0.3497322201728821, G Loss: 2.211775302886963\n",
            "Epoch 29/50, D Loss: 0.12336642295122147, G Loss: 3.0030624866485596\n",
            "Epoch 30/50, D Loss: 0.15681560337543488, G Loss: 3.8774702548980713\n",
            "Epoch 31/50, D Loss: 0.15917614102363586, G Loss: 2.7304670810699463\n",
            "Epoch 32/50, D Loss: 0.39054179191589355, G Loss: 2.910676956176758\n",
            "Epoch 33/50, D Loss: 0.22324025630950928, G Loss: 2.0634653568267822\n",
            "Epoch 34/50, D Loss: 0.15313254296779633, G Loss: 2.3422603607177734\n",
            "Epoch 35/50, D Loss: 0.2463030219078064, G Loss: 2.288327932357788\n",
            "Epoch 36/50, D Loss: 0.12849324941635132, G Loss: 2.836904287338257\n",
            "Epoch 37/50, D Loss: 0.22269243001937866, G Loss: 2.3085079193115234\n",
            "Epoch 38/50, D Loss: 0.2684624195098877, G Loss: 2.7164909839630127\n",
            "Epoch 39/50, D Loss: 0.2736341953277588, G Loss: 2.173941135406494\n",
            "Epoch 40/50, D Loss: 0.2658970355987549, G Loss: 2.5959019660949707\n",
            "Epoch 41/50, D Loss: 0.319041907787323, G Loss: 2.7311458587646484\n",
            "Epoch 42/50, D Loss: 0.49702349305152893, G Loss: 3.776334524154663\n",
            "Epoch 43/50, D Loss: 0.2613085210323334, G Loss: 1.9581047296524048\n",
            "Epoch 44/50, D Loss: 0.26956647634506226, G Loss: 2.7255859375\n",
            "Epoch 45/50, D Loss: 0.2563013732433319, G Loss: 2.2707204818725586\n",
            "Epoch 46/50, D Loss: 0.1881372332572937, G Loss: 2.670053720474243\n",
            "Epoch 47/50, D Loss: 0.35012078285217285, G Loss: 3.2135801315307617\n",
            "Epoch 48/50, D Loss: 0.2863647937774658, G Loss: 1.9924249649047852\n",
            "Epoch 49/50, D Loss: 0.33858421444892883, G Loss: 1.7594555616378784\n",
            "Epoch 50/50, D Loss: 0.29414114356040955, G Loss: 2.12814998626709\n"
          ]
        }
      ],
      "source": [
        "for epoch in range(num_epochs):\n",
        "    for i, (imgs, _) in enumerate(train_loader):\n",
        "        valid = torch.ones(imgs.size(0), 1)\n",
        "        fake = torch.zeros(imgs.size(0), 1)\n",
        "\n",
        "        real_imgs = imgs\n",
        "\n",
        "        # Train Generator\n",
        "        optimizer_G.zero_grad()\n",
        "        z = torch.randn(imgs.size(0), latent_dim)\n",
        "        gen_imgs = generator(z)\n",
        "        g_loss = adversarial_loss(discriminator(gen_imgs), valid)\n",
        "        g_loss.backward()\n",
        "        optimizer_G.step()\n",
        "\n",
        "        # Train Discriminator\n",
        "        optimizer_D.zero_grad()\n",
        "        real_loss = adversarial_loss(discriminator(real_imgs), valid)\n",
        "        fake_loss = adversarial_loss(discriminator(gen_imgs.detach()), fake)\n",
        "        d_loss = (real_loss + fake_loss) / 2\n",
        "        d_loss.backward()\n",
        "        optimizer_D.step()\n",
        "\n",
        "    print(f'Epoch {epoch + 1}/{num_epochs}, D Loss: {d_loss.item()}, G Loss: {g_loss.item()}')"
      ]
    }
  ],
  "metadata": {
    "accelerator": "GPU",
    "colab": {
      "gpuType": "T4",
      "provenance": []
    },
    "kernelspec": {
      "display_name": "Python 3",
      "name": "python3"
    },
    "language_info": {
      "name": "python"
    }
  },
  "nbformat": 4,
  "nbformat_minor": 0
}